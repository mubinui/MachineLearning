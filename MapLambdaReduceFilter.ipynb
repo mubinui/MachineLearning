{
  "nbformat": 4,
  "nbformat_minor": 0,
  "metadata": {
    "colab": {
      "name": "MapLambdaReduceFilter.ipynb",
      "provenance": [],
      "authorship_tag": "ABX9TyMc7PYNZYRRdAKR+NU8Ztpi",
      "include_colab_link": true
    },
    "kernelspec": {
      "name": "python3",
      "display_name": "Python 3"
    },
    "language_info": {
      "name": "python"
    }
  },
  "cells": [
    {
      "cell_type": "markdown",
      "metadata": {
        "id": "view-in-github",
        "colab_type": "text"
      },
      "source": [
        "<a href=\"https://colab.research.google.com/github/mubinui/MachineLearning/blob/main/MapLambdaReduceFilter.ipynb\" target=\"_parent\"><img src=\"https://colab.research.google.com/assets/colab-badge.svg\" alt=\"Open In Colab\"/></a>"
      ]
    },
    {
      "cell_type": "code",
      "metadata": {
        "colab": {
          "base_uri": "https://localhost:8080/"
        },
        "id": "9_097NGwUXx9",
        "outputId": "566535b8-2121-4142-cac3-37d5309a5100"
      },
      "source": [
        "#Map, reduce , filter & Lambda \n",
        "#map\n",
        "def factorial (n):\n",
        "    if n == 0 or n == 1 :\n",
        "        return 1\n",
        "    return n*factorial(n-1)\n",
        "\n",
        "numbers = (1,2,3,4,6,7,8)\n",
        "result = list(map(factorial,numbers)) # map(functionname,input1,input2)\n",
        "print(result)\n",
        "\n",
        "def firstlast(a,b):\n",
        "    return a+b\n",
        "\n",
        "aster = {1,2,3,4,5}\n",
        "bster = {6,7,8,9,10}\n",
        "result_1 = list(map(firstlast,aster,bster))\n",
        "print(result_1)"
      ],
      "execution_count": 2,
      "outputs": [
        {
          "output_type": "stream",
          "name": "stdout",
          "text": [
            "[1, 2, 6, 24, 720, 5040, 40320]\n",
            "[7, 9, 11, 13, 15]\n"
          ]
        }
      ]
    },
    {
      "cell_type": "code",
      "metadata": {
        "colab": {
          "base_uri": "https://localhost:8080/"
        },
        "id": "qt-XkiujVORp",
        "outputId": "f5efc2e0-1106-46a2-8e65-06db47caff25"
      },
      "source": [
        "#Lamda function \n",
        "x = lambda a : a+10\n",
        "print(x(10))\n",
        "\n",
        "\n",
        "#Using multiple argument\n",
        "y = lambda a,b,c : a+b+c\n",
        "print(y(1,2,3))\n",
        "\n",
        "#Using lambda function as a function of function \n",
        "\n",
        "def custom(n,k):\n",
        "    return lambda a : (a*n)+k\n",
        "\n",
        "myfunction = custom(10,10)\n",
        "print(myfunction)\n",
        "result = myfunction(10)\n",
        "print(result)\n"
      ],
      "execution_count": 7,
      "outputs": [
        {
          "output_type": "stream",
          "name": "stdout",
          "text": [
            "20\n",
            "6\n",
            "<function custom.<locals>.<lambda> at 0x7fc1cfe90440>\n",
            "110\n"
          ]
        }
      ]
    },
    {
      "cell_type": "code",
      "metadata": {
        "id": "sy-CsbraZqPx"
      },
      "source": [
        "#reduce function "
      ],
      "execution_count": null,
      "outputs": []
    }
  ]
}