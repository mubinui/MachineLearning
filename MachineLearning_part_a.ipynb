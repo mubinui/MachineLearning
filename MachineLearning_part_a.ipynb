{
  "nbformat": 4,
  "nbformat_minor": 0,
  "metadata": {
    "colab": {
      "name": "MachineLearning_part_a.ipynb",
      "provenance": [],
      "authorship_tag": "ABX9TyNMYNAGzV0SgNnoLMS71p5G",
      "include_colab_link": true
    },
    "kernelspec": {
      "name": "python3",
      "display_name": "Python 3"
    },
    "language_info": {
      "name": "python"
    }
  },
  "cells": [
    {
      "cell_type": "markdown",
      "metadata": {
        "id": "view-in-github",
        "colab_type": "text"
      },
      "source": [
        "<a href=\"https://colab.research.google.com/github/mubinui/MachineLearning/blob/main/MachineLearning_part_a.ipynb\" target=\"_parent\"><img src=\"https://colab.research.google.com/assets/colab-badge.svg\" alt=\"Open In Colab\"/></a>"
      ]
    },
    {
      "cell_type": "code",
      "metadata": {
        "id": "m4SlWhdTcBDf"
      },
      "source": [
        "import numpy as np \n",
        "from scipy import stats \n",
        "import random as rd \n",
        "import matplotlib.pyplot as plt\n",
        "import math"
      ],
      "execution_count": 50,
      "outputs": []
    },
    {
      "cell_type": "markdown",
      "metadata": {
        "id": "WlJ73kw7ZNHw"
      },
      "source": [
        "\n",
        "\n",
        "*   **Mean:**Avarage value of all elements \n",
        "*   **Median:**The midpoing value\n",
        "*   **Mode:**Most common value \n",
        "*   **stats** stats.mode() (mode not from numpy )\n",
        "\n",
        "*   **Normal Implementations are also provided(UIC)**\n",
        "\n"
      ]
    },
    {
      "cell_type": "code",
      "metadata": {
        "id": "E8GuGlE-bgkg"
      },
      "source": [
        "#Traditional way of finding Mean Median Mode \n",
        "class SimpleMath:\n",
        "    def __init__(self,numbers_list):\n",
        "        self.numbers = np.array(numbers_list)\n",
        "        self.length =  len(self.numbers)\n",
        "\n",
        "    def mean(self):\n",
        "        sum_n = sum(self.numbers)\n",
        "        avg = sum_n/self.length\n",
        "        return avg \n",
        "    \n",
        "    def median(self):\n",
        "        val = None \n",
        "        sorted_a = np.sort(self.numbers)\n",
        "        if self.length%2 ==0:\n",
        "            first_number = int(self.length/2)-1\n",
        "            second_number = first_number + 1 \n",
        "            med = (sorted_a[first_number] + sorted_a[second_number])/2 \n",
        "            val = med \n",
        "        else: \n",
        "            val = sorted_a[int(self.length/2)]\n",
        "        \n",
        "        return  val\n",
        "    \n",
        "    # def mode (self): \n",
        "\n",
        "   \n",
        "\n"
      ],
      "execution_count": 2,
      "outputs": []
    },
    {
      "cell_type": "code",
      "metadata": {
        "colab": {
          "base_uri": "https://localhost:8080/"
        },
        "id": "JCrf5_Y0Y6S-",
        "outputId": "5f2ca90f-cd2b-4fba-e91d-bec79b508589"
      },
      "source": [
        "odd_List = [1,2,3,4,5,6,7,8,9,9,5]\n",
        "even_List = [1,2,3,4,5,6,7,8,9,10,6,6,6,6]\n",
        "random_List = []\n",
        "for i in range(10): \n",
        "    x = rd.randint(1,1000)\n",
        "    random_List.append(x)\n",
        "\n",
        "#odd length\n",
        "calculate = SimpleMath(odd_List)\n",
        "m = calculate.mean()\n",
        "n = calculate.median()\n",
        "print(\"mean={0}\".format(m))\n",
        "print(\"median={0}\".format(n))\n",
        "#even Length\n",
        "calculate1 = SimpleMath(even_List)\n",
        "m = calculate1.mean()\n",
        "n = calculate1.median()\n",
        "print(\"mean={0}\".format(m))\n",
        "print(\"median={0}\".format(n))\n",
        "#random\n",
        "calculate2 = SimpleMath(random_List)\n",
        "m = calculate2.mean()\n",
        "n = calculate2.median()\n",
        "print(\"mean={0}\".format(m))\n",
        "print(\"median={0}\".format(n))\n",
        "\n",
        "print('-------------------->>-------------->>------------>>')\n",
        "\n",
        "# Calculating with built-in methods \n",
        "m = np.mean(odd_List)\n",
        "n = np.median(odd_List)\n",
        "s = stats.mode(odd_List)\n",
        "print(\"mean={} median={} mode={}\".format(m,n,s))\n",
        "\n",
        "m = np.mean(even_List)\n",
        "n = np.median(even_List)\n",
        "s = stats.mode(even_List)\n",
        "print(\"mean={} median={} mode ={}\".format(m,n,s))\n",
        "\n",
        "\n",
        "m = np.mean(random_List)\n",
        "n = np.median(random_List)\n",
        "s = stats.mode(random_List)\n",
        "print(\"mean={} median={} mode={}\".format(m,n,s))"
      ],
      "execution_count": 3,
      "outputs": [
        {
          "output_type": "stream",
          "name": "stdout",
          "text": [
            "mean=5.363636363636363\n",
            "median=5\n",
            "mean=5.642857142857143\n",
            "median=6.0\n",
            "mean=546.3\n",
            "median=498.0\n",
            "-------------------->>-------------->>------------>>\n",
            "mean=5.363636363636363 median=5.0 mode=ModeResult(mode=array([5]), count=array([2]))\n",
            "mean=5.642857142857143 median=6.0 mode =ModeResult(mode=array([6]), count=array([5]))\n",
            "mean=546.3 median=498.0 mode=ModeResult(mode=array([69]), count=array([1]))\n"
          ]
        }
      ]
    },
    {
      "cell_type": "markdown",
      "metadata": {
        "id": "sOibPlTbf7E_"
      },
      "source": [
        "**Standard Deviation**\n",
        "Standard deviation shows how spread out the values are.**A low standard deviation means that most of the values are close to the mean(avarage) value**. "
      ]
    },
    {
      "cell_type": "code",
      "metadata": {
        "id": "_ECIIGy_YWaA"
      },
      "source": [
        "#Standard deviation without numpy\n",
        "def avg(list_1):\n",
        "    add = sum(list_1)\n",
        "    av = add/len(list_1)\n",
        "    return av\n",
        "\n",
        "\n",
        "\n",
        "def standard_deviation(list_1):\n",
        "    sum = 0\n",
        "    av = avg(list_1)\n",
        "    for i in range(len(list_1)):\n",
        "        dif = math.pow(list_1[i]-av,2)\n",
        "        sum += dif \n",
        "    std_dev = math.pow(sum/len(list_1),0.5)\n",
        "    return std_dev\n",
        "\n",
        "\n",
        "def variance(list_1):\n",
        "    sum = 0\n",
        "    ava = avg(list_1)\n",
        "    for i in range(len(list_1)):\n",
        "        dif = math.pow(list_1[i]-ava,2)\n",
        "        sum += dif \n",
        "        var = math.pow(sum/len(list_1),1)\n",
        "    return var"
      ],
      "execution_count": 4,
      "outputs": []
    },
    {
      "cell_type": "code",
      "metadata": {
        "id": "5SLVrOa-wlyA",
        "colab": {
          "base_uri": "https://localhost:8080/"
        },
        "outputId": "8da43add-3092-4cfa-c43f-f172e92a8498"
      },
      "source": [
        "#Standard deviation \n",
        "numbers_a = [] # less spread near to the avg \n",
        "numbers_b = [] # more spread \n",
        "numbers_c = [] # most spread \n",
        "for i in range(10): \n",
        "    x = rd.randint(1,10)\n",
        "    y = rd.randint(1,1000)\n",
        "    z = rd.randint(1,50000)\n",
        "    numbers_a.append(x)\n",
        "    numbers_b.append(y)\n",
        "    numbers_c.append(z)\n",
        "print(\"List_a_new\",standard_deviation(numbers_a))\n",
        "print(\"List_b_new\",standard_deviation(numbers_b))\n",
        "print(\"List_c_new\",standard_deviation(numbers_c))\n",
        "print(\"------->>>>------->>>>------->>>>------->>>>\")\n",
        "print(\"List_a = \",np.std(numbers_a))\n",
        "print(\"List_b = \",np.std(numbers_b))\n",
        "print(\"List_c = \",np.std(numbers_c))"
      ],
      "execution_count": 5,
      "outputs": [
        {
          "output_type": "stream",
          "name": "stdout",
          "text": [
            "List_a_new 2.1563858652847827\n",
            "List_b_new 311.6306146706386\n",
            "List_c_new 12740.514210972804\n",
            "------->>>>------->>>>------->>>>------->>>>\n",
            "List_a =  2.1563858652847827\n",
            "List_b =  311.6306146706386\n",
            "List_c =  12740.514210972804\n"
          ]
        }
      ]
    },
    {
      "cell_type": "markdown",
      "metadata": {
        "id": "86oNtKeymZwJ"
      },
      "source": [
        "**Varience** is another number that indicates how spread out the values are . **Std = [{(n1-avg) n(1) to n(n)}/n ] avg of the differences from the avg** On the other hand **Varience = [{(n1-avg)^2}/n]** "
      ]
    },
    {
      "cell_type": "code",
      "metadata": {
        "id": "TNIXN5lOf6EQ",
        "colab": {
          "base_uri": "https://localhost:8080/"
        },
        "outputId": "e46e99b9-9f86-4272-d1cf-aaa1ab9708bf"
      },
      "source": [
        "#Variance \n",
        "numbers_a = [] # less spread near to the avg \n",
        "numbers_b = [] # more spread \n",
        "numbers_c = [] # most spread \n",
        "for i in range(10): \n",
        "    x = rd.randint(1,10)\n",
        "    y = rd.randint(1,1000)\n",
        "    z = rd.randint(1,50000)\n",
        "    numbers_a.append(x)\n",
        "    numbers_b.append(y)\n",
        "    numbers_c.append(z)\n",
        "\n",
        "print(\"List_a_o\",variance(numbers_a))\n",
        "print(\"List_b_o\",variance(numbers_b))\n",
        "print(\"List_c_o\",variance(numbers_c))\n",
        "print(\"-------->>>>----->>>>------>>>>\")\n",
        "print(\"List_a\",np.var(numbers_a))\n",
        "print(\"List_a\",np.var(numbers_b))\n",
        "print(\"List_a\",np.var(numbers_c))"
      ],
      "execution_count": 6,
      "outputs": [
        {
          "output_type": "stream",
          "name": "stdout",
          "text": [
            "List_a_o 5.360000000000001\n",
            "List_b_o 105283.20999999999\n",
            "List_c_o 187184781.49\n",
            "-------->>>>----->>>>------>>>>\n",
            "List_a 5.360000000000001\n",
            "List_a 105283.21\n",
            "List_a 187184781.49\n"
          ]
        }
      ]
    },
    {
      "cell_type": "markdown",
      "metadata": {
        "id": "fCgdGJWU-r8X"
      },
      "source": [
        "**Percentile**\n",
        "Percentiles are used in statistics to give you a number that descrives the value that a given percent of the values are lower than ."
      ]
    },
    {
      "cell_type": "code",
      "metadata": {
        "id": "QzYaUbnK-bRZ"
      },
      "source": [
        "#percentile in treditional way \n",
        "def percentile(list_a,p):\n",
        "    list_a.sort()\n",
        "    position_locator = (len(list_a))*(p/100)\n",
        "    per = 0\n",
        "    n = int(position_locator)\n",
        "    if position_locator-n != 0:\n",
        "        diff = position_locator - n\n",
        "        per = list_a[n] + diff *(list_a[n+1]-list_a[n])\n",
        "    else:\n",
        "        per = list_a[n]\n",
        "    return per "
      ],
      "execution_count": 42,
      "outputs": []
    },
    {
      "cell_type": "code",
      "metadata": {
        "colab": {
          "base_uri": "https://localhost:8080/"
        },
        "id": "zClzght8Mzc6",
        "outputId": "89891462-2b74-4078-b73e-b57dd717d26c"
      },
      "source": [
        "#percentile tester \n",
        "numbers_a = [] # less spread near to the avg \n",
        "numbers_b = [] # more spread \n",
        "numbers_c = [] # most spread \n",
        "for i in range(11): \n",
        "    x = rd.randint(1,10)\n",
        "    y = rd.randint(1,1000)\n",
        "    z = rd.randint(1,50000)\n",
        "    numbers_a.append(x)\n",
        "    numbers_b.append(y)\n",
        "    numbers_c.append(z)\n",
        "\n",
        "#testing treditional way \n",
        "print(46,' percent of the items are less than',percentile(numbers_a,46))\n",
        "print(75,' percent of the items are less than',percentile(numbers_a,75))\n",
        "print(90,' percent of the items are less than',percentile(numbers_a,90))\n",
        "print('---------------------------------------------------------------')\n",
        "print(46,' percent of the items are less than',percentile(numbers_b,46))\n",
        "print(75,' percent of the items are less than',percentile(numbers_b,75))\n",
        "print(90,' percent of the items are less than',percentile(numbers_b,90))\n",
        "print('---------------------------------------------------------------')\n",
        "print(46,' percent of the items are less than',percentile(numbers_c,46))\n",
        "print(75,' percent of the items are less than',percentile(numbers_c,75))\n",
        "print(90,' percent of the items are less than',percentile(numbers_c,90))\n",
        "print('---------------------------------------------------------------')\n",
        "print('****************************************************************')\n",
        "#testing percentile using numpy library \n",
        "print(46,' percent of the items are less than',np.percentile(numbers_a,46))\n",
        "print(75,' percent of the items are less than',np.percentile(numbers_a,75))\n",
        "print(90,' percent of the items are less than',np.percentile(numbers_a,90))\n",
        "print('---------------------------------------------------------------')\n",
        "print(46,' percent of the items are less than',np.percentile(numbers_b,46))\n",
        "print(75,' percent of the items are less than',np.percentile(numbers_b,75))\n",
        "print(90,' percent of the items are less than',np.percentile(numbers_b,90))\n",
        "print('---------------------------------------------------------------')\n",
        "print(46,' percent of the items are less than',np.percentile(numbers_c,46))\n",
        "print(75,' percent of the items are less than',np.percentile(numbers_c,75))\n",
        "print(90,' percent of the items are less than',np.percentile(numbers_c,90))\n",
        "print('---------------------------------------------------------------')\n"
      ],
      "execution_count": 44,
      "outputs": [
        {
          "output_type": "stream",
          "name": "stdout",
          "text": [
            "46  percent of the items are less than 4.120000000000001\n",
            "75  percent of the items are less than 9.0\n",
            "90  percent of the items are less than 9.9\n",
            "---------------------------------------------------------------\n",
            "46  percent of the items are less than 646.34\n",
            "75  percent of the items are less than 799.5\n",
            "90  percent of the items are less than 941.1\n",
            "---------------------------------------------------------------\n",
            "46  percent of the items are less than 31222.32\n",
            "75  percent of the items are less than 40633.0\n",
            "90  percent of the items are less than 47606.5\n",
            "---------------------------------------------------------------\n",
            "****************************************************************\n",
            "46  percent of the items are less than 4.0\n",
            "75  percent of the items are less than 8.5\n",
            "90  percent of the items are less than 9.0\n",
            "---------------------------------------------------------------\n",
            "46  percent of the items are less than 609.4000000000001\n",
            "75  percent of the items are less than 761.5\n",
            "90  percent of the items are less than 897.0\n",
            "---------------------------------------------------------------\n",
            "46  percent of the items are less than 31017.0\n",
            "75  percent of the items are less than 37710.0\n",
            "90  percent of the items are less than 44020.0\n",
            "---------------------------------------------------------------\n"
          ]
        }
      ]
    },
    {
      "cell_type": "markdown",
      "metadata": {
        "id": "NlfI3tbhXH9Q"
      },
      "source": [
        "**Machine Learning** Data Distribution "
      ]
    },
    {
      "cell_type": "code",
      "metadata": {
        "colab": {
          "base_uri": "https://localhost:8080/"
        },
        "id": "KqiPn-WrW25V",
        "outputId": "e409b2a7-9db6-4381-f43f-a3374414a4df"
      },
      "source": [
        "#Creating an array containing 250 random floats between 0 and 5\\\n",
        "x = np.random.uniform(0.0,5.0,250)\n",
        "print(x)\n",
        "print(type(x))"
      ],
      "execution_count": 47,
      "outputs": [
        {
          "output_type": "stream",
          "name": "stdout",
          "text": [
            "[1.49104038 0.21620393 2.28928895 1.77237651 2.45112471 2.81995388\n",
            " 2.06394829 2.86840305 3.86785948 2.30752734 3.57017882 4.95873274\n",
            " 0.48858654 3.75027716 3.09429085 4.99670147 1.76270818 3.48434006\n",
            " 0.11300415 1.74709714 4.33582289 2.31113278 3.09335065 0.13083375\n",
            " 2.45613347 0.47647953 0.23092039 1.98258467 3.66196761 3.31494107\n",
            " 3.52165434 4.10591102 3.81336622 0.42388268 0.46173696 2.78268812\n",
            " 0.73257866 4.04624461 0.02027966 0.73530149 0.73950599 0.11250525\n",
            " 1.76266424 1.48416309 0.57928694 2.7263983  1.33295428 3.32421896\n",
            " 4.48377236 3.89811154 3.5069257  0.29708639 0.87555928 4.49694362\n",
            " 2.7696144  0.11321182 0.85605881 0.88936005 4.55315622 3.93059215\n",
            " 0.51668915 2.85580323 4.58704271 2.36996348 4.43202318 2.17779383\n",
            " 4.43872599 1.02467031 3.68388413 4.47281625 1.94642142 1.33139964\n",
            " 1.12014645 3.53226022 3.6729734  3.94753281 0.98826293 0.05907117\n",
            " 0.23349043 1.55561149 2.26252489 3.01391086 3.48458639 4.97619654\n",
            " 0.44089195 2.74475266 2.35664143 4.98356806 1.95121582 4.18465065\n",
            " 0.44607886 0.70792602 2.01857197 0.89211633 3.74169008 1.50344208\n",
            " 4.0092477  2.76090564 2.07255078 4.85497368 4.4072703  2.92522434\n",
            " 3.41939904 0.87940453 1.58568779 0.70788995 4.36676078 2.3968189\n",
            " 4.52425578 3.48087767 2.27697166 0.15558324 2.3669573  0.92781592\n",
            " 4.18220053 0.68541649 2.66678413 3.46054848 0.29494777 1.70923895\n",
            " 2.53409579 0.94437219 1.86146149 2.22290682 4.70343269 1.94181351\n",
            " 2.45173718 2.74193657 2.81306509 2.94027468 2.62317068 1.21316231\n",
            " 0.87733892 1.16927089 2.53696436 0.95185228 0.34235782 2.27937982\n",
            " 2.80367109 1.23861684 2.00268213 2.64271247 2.60948212 4.69144195\n",
            " 1.22640367 1.42544973 1.59309134 0.94112406 0.23091255 2.1243124\n",
            " 2.40832779 1.86087261 4.55305008 1.49332575 1.99820106 1.49132413\n",
            " 0.16782879 0.44494004 1.55974284 4.83436741 0.19558434 3.53520644\n",
            " 2.25078843 1.68794666 1.30760374 4.58586422 3.23724157 2.82353119\n",
            " 2.1317361  3.663106   4.11007902 0.0462337  0.34758155 2.19254248\n",
            " 4.8420415  4.67542271 2.44858839 0.90128995 3.39480439 0.39118883\n",
            " 3.46289689 4.03913956 4.02326756 2.18818129 1.91253462 3.33198449\n",
            " 0.6813146  3.60112342 3.70006845 3.87058274 4.67716518 4.06703431\n",
            " 1.87471159 2.02796983 1.53759202 1.60582563 3.25263363 2.41113343\n",
            " 0.49159964 0.48617096 1.12134205 3.9147485  2.3527185  4.0235642\n",
            " 0.74725046 4.37640969 1.20500745 1.63419843 3.16139418 3.52913239\n",
            " 1.00452305 3.48342341 2.51970066 2.70119428 2.31358109 0.05501811\n",
            " 0.23890388 4.00193459 0.79689485 4.10038623 2.77486945 4.08624091\n",
            " 3.80243246 4.18139141 3.98781904 1.14944384 2.70770092 2.8861319\n",
            " 3.56758865 1.38373418 1.02134151 2.6255382  4.44656988 1.69883407\n",
            " 4.23991969 4.81612901 4.89150093 0.66245004 3.57123544 1.48960054\n",
            " 1.88646779 2.28720581 4.70965715 3.67097252 2.43874636 4.05091802\n",
            " 1.80758787 3.35511527 0.19285081 3.97255914]\n",
            "<class 'numpy.ndarray'>\n"
          ]
        }
      ]
    },
    {
      "cell_type": "code",
      "metadata": {
        "colab": {
          "base_uri": "https://localhost:8080/",
          "height": 266
        },
        "id": "9fuhsAkoZjT5",
        "outputId": "022319c3-901f-4454-a78f-daae07daf1b3"
      },
      "source": [
        "x = np.random.uniform(0.0,10.0,500)\n",
        "plt.hist(x,10)\n",
        "plt.show()"
      ],
      "execution_count": 57,
      "outputs": [
        {
          "output_type": "display_data",
          "data": {
            "image/png": "[encoded data removed]",
            "text/plain": [
              "<Figure size 432x288 with 1 Axes>"
            ]
          },
          "metadata": {
            "needs_background": "light"
          }
        }
      ]
    },
    {
      "cell_type": "code",
      "metadata": {
        "colab": {
          "base_uri": "https://localhost:8080/",
          "height": 265
        },
        "id": "F7TTzOWucAXc",
        "outputId": "78360139-1675-400a-9fba-41a2d289e30c"
      },
      "source": [
        "#Big Data Distribution \n",
        "#Creating an array with 100k random numbers and displaying them using a histogram \n",
        "x = np.random.uniform(0.0,10.0,100000)\n",
        "plt.hist(x,100) # here 100 is the number of the bars (colums)\n",
        "plt.show()"
      ],
      "execution_count": 58,
      "outputs": [
        {
          "output_type": "display_data",
          "data": {
            "image/png": "[encoded data removed]",
            "text/plain": [
              "<Figure size 432x288 with 1 Axes>"
            ]
          },
          "metadata": {
            "needs_background": "light"
          }
        }
      ]
    }
  ]
}